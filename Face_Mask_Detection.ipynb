{
  "nbformat": 4,
  "nbformat_minor": 0,
  "metadata": {
    "colab": {
      "name": "Face Mask Detection.ipynb",
      "provenance": [],
      "collapsed_sections": []
    },
    "kernelspec": {
      "name": "python3",
      "display_name": "Python 3"
    }
  },
  "cells": [
    {
      "cell_type": "markdown",
      "metadata": {
        "id": "z79NWWrZVYTh"
      },
      "source": [
        "**Importing Libraries**"
      ]
    },
    {
      "cell_type": "code",
      "metadata": {
        "id": "CrQrBit4VxwR"
      },
      "source": [
        "import pandas as pd\n",
        "import numpy as np \n",
        "import matplotlib.pyplot as plt\n",
        "import cv2\n",
        "import os\n",
        "from tensorflow.keras.models import Sequential\n",
        "from tensorflow.keras.layers import Conv2D\n",
        "from tensorflow.keras.layers import AveragePooling2D, MaxPooling2D\n",
        "from tensorflow.keras.layers import Dense, Flatten, Dropout\n",
        "from tensorflow.keras.preprocessing.image import ImageDataGenerator\n",
        "from tensorflow.keras.preprocessing.image import load_img\n",
        "from tensorflow.keras.preprocessing.image import img_to_array\n",
        "from tensorflow.keras.preprocessing.image import array_to_img\n",
        "from tensorflow.keras.datasets import mnist\n",
        "from sklearn.model_selection import train_test_split\n",
        "from sklearn.preprocessing import LabelEncoder\n",
        "from sklearn.preprocessing import LabelBinarizer\n",
        "from keras.utils import to_categorical, normalize"
      ],
      "execution_count": null,
      "outputs": []
    },
    {
      "cell_type": "code",
      "metadata": {
        "id": "sxGTEMJRdBq6"
      },
      "source": [
        "from google.colab import drive\n",
        "drive.mount(\"/content/drive\")"
      ],
      "execution_count": null,
      "outputs": []
    },
    {
      "cell_type": "markdown",
      "metadata": {
        "id": "SKmkAoHFXRuU"
      },
      "source": [
        "**Preprocessing the Dataset**"
      ]
    },
    {
      "cell_type": "code",
      "metadata": {
        "id": "ofSTuQvhfU9L"
      },
      "source": [
        "datasetPath = '/content/drive/My Drive/My Project/'\n",
        "\n",
        "IMG_SIZE = 50\n",
        "CATEGORIES = ['no_mask', 'mask']\n",
        "training_data = []\n",
        "\n",
        "\n",
        "def create_training_data():\n",
        "  for category in CATEGORIES:\n",
        "    path = os.path.join(datasetPath, category)\n",
        "    for img in os.listdir(path):\n",
        "      img_array = cv2.imread(os.path.join(path,img), cv2.IMREAD_GRAYSCALE)\n",
        "      new_array = cv2.resize(img_array, (IMG_SIZE, IMG_SIZE))\n",
        "      training_data.append([new_array, category])\n",
        "\n",
        "create_training_data()\n"
      ],
      "execution_count": null,
      "outputs": []
    },
    {
      "cell_type": "code",
      "metadata": {
        "id": "jTMSTfcWhCsD"
      },
      "source": [
        "import random\n",
        "random.shuffle(training_data)"
      ],
      "execution_count": null,
      "outputs": []
    },
    {
      "cell_type": "code",
      "metadata": {
        "id": "IpW7HornzMWO"
      },
      "source": [
        "x=[]\n",
        "y=[]\n",
        "\n",
        "\n",
        "for features, labels in training_data:\n",
        "    x.append(features)\n",
        "    y.append(labels)\n",
        "\n",
        "x = np.array(x, dtype=\"float32\").reshape(-1,50,50,1)\n",
        "y = np.array(y)\n",
        "\n",
        "lbl= LabelBinarizer()\n",
        "y=lbl.fit_transform(y)\n",
        "y = to_categorical(y)\n"
      ],
      "execution_count": null,
      "outputs": []
    },
    {
      "cell_type": "code",
      "metadata": {
        "id": "IM4dcrzeSyvv"
      },
      "source": [
        "x_train, x_test, y_train, y_test = train_test_split(x, y, test_size=0.20, stratify=y, random_state=42)\n"
      ],
      "execution_count": null,
      "outputs": []
    },
    {
      "cell_type": "code",
      "metadata": {
        "id": "f36qIHVsAgKf"
      },
      "source": [
        "#Create the Model\n",
        "\n",
        "model = Sequential()\n",
        "model.add(Conv2D(100, (3,3), activation='relu', padding='same', input_shape=(50,50,1)))\n",
        "model.add(MaxPooling2D((2,2)))\n",
        "model.add(Conv2D(100,(3,3), activation='relu'))\n",
        "model.add(MaxPooling2D((2,2)))\n",
        "model.add(Flatten())\n",
        "model.add(Dropout(0.5))\n",
        "model.add(Dense(50, activation='relu'))\n",
        "model.add(Dense(2, activation='sigmoid'))\n",
        "\n",
        "\n",
        "#Compile the Model\n",
        "model.compile(optimizer='adam', loss='binary_crossentropy', metrics=['accuracy'])\n",
        "\n",
        "#Fit the Model\n",
        "model.fit(x_train,y_train,validation_data=(x_test, y_test) ,epochs=20,batch_size=10)\n"
      ],
      "execution_count": null,
      "outputs": []
    },
    {
      "cell_type": "code",
      "metadata": {
        "id": "wiOaapInQ5e2"
      },
      "source": [
        "\n",
        "!curl -o img.jpg https://zidbits.com/wp-content/uploads/2011/12/mask.jpg"
      ],
      "execution_count": null,
      "outputs": []
    },
    {
      "cell_type": "code",
      "metadata": {
        "id": "G0d7o1I7ViiF"
      },
      "source": [
        "# Predict the Model\n",
        "\n",
        "from google.colab.patches import cv2_imshow\n",
        "\n",
        "img = cv2.imread(\"img.jpg\", cv2.IMREAD_GRAYSCALE)\n",
        "img = cv2.resize(img,(50,50))\n",
        "img = np.reshape(img,[-1,50,50,1])\n",
        "\n",
        "classes = model.predict_classes(img)\n",
        "\n",
        "print(classes)"
      ],
      "execution_count": null,
      "outputs": []
    }
  ]
}